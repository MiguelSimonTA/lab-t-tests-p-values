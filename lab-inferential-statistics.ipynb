{
 "cells": [
  {
   "cell_type": "markdown",
   "id": "b3a46e69-7586-405b-a995-df8d3b5ffe4a",
   "metadata": {},
   "source": [
    "![logo_ironhack_blue 7](https://user-images.githubusercontent.com/23629340/40541063-a07a0a8a-601a-11e8-91b5-2f13e4e6b441.png)"
   ]
  },
  {
   "cell_type": "markdown",
   "id": "30bacd03-127f-4c97-b1c7-33c73d3833ae",
   "metadata": {},
   "source": [
    "# Lab | Inferential statistics - T-test & P-value"
   ]
  },
  {
   "cell_type": "markdown",
   "id": "eb0ef64c-f7ed-418e-af8a-d30648e44a0c",
   "metadata": {},
   "source": [
    "## Importing Libraries"
   ]
  },
  {
   "cell_type": "code",
   "execution_count": 1,
   "id": "06e2a7c1-d3b3-4ba5-bba9-b1285878d532",
   "metadata": {},
   "outputs": [],
   "source": [
    "import pandas as pd\n",
    "import numpy as np\n",
    "from scipy.stats import ttest_ind\n",
    "import scipy.stats as st\n",
    "from scipy.stats import f_oneway"
   ]
  },
  {
   "cell_type": "markdown",
   "id": "4a583a0f-5b64-4ee9-9128-018982e99aa4",
   "metadata": {},
   "source": [
    "### Instructions"
   ]
  },
  {
   "cell_type": "markdown",
   "id": "a323dc91-3b9f-4889-b25f-dcec43e6a9e2",
   "metadata": {},
   "source": [
    "#### 1. *One tailed t-test* "
   ]
  },
  {
   "cell_type": "markdown",
   "id": "90302456-e155-475f-980f-9f162c9bb80b",
   "metadata": {},
   "source": [
    "- In a packing plant, a machine packs cartons with jars. It is supposed that a new machine will pack faster on the average than the machine currently used. To test that hypothesis, the times it takes each machine to pack ten cartons are recorded. The results, in seconds, are shown in the tables in the file `files_for_lab/machine.txt`."
   ]
  },
  {
   "cell_type": "code",
   "execution_count": 2,
   "id": "e6b78453-b6eb-439c-8254-d01418663e77",
   "metadata": {},
   "outputs": [
    {
     "data": {
      "text/html": [
       "<div>\n",
       "<style scoped>\n",
       "    .dataframe tbody tr th:only-of-type {\n",
       "        vertical-align: middle;\n",
       "    }\n",
       "\n",
       "    .dataframe tbody tr th {\n",
       "        vertical-align: top;\n",
       "    }\n",
       "\n",
       "    .dataframe thead th {\n",
       "        text-align: right;\n",
       "    }\n",
       "</style>\n",
       "<table border=\"1\" class=\"dataframe\">\n",
       "  <thead>\n",
       "    <tr style=\"text-align: right;\">\n",
       "      <th></th>\n",
       "      <th>New machine</th>\n",
       "      <th>Old machine</th>\n",
       "    </tr>\n",
       "  </thead>\n",
       "  <tbody>\n",
       "    <tr>\n",
       "      <th>0</th>\n",
       "      <td>42.1</td>\n",
       "      <td>42.7</td>\n",
       "    </tr>\n",
       "    <tr>\n",
       "      <th>1</th>\n",
       "      <td>41.0</td>\n",
       "      <td>43.6</td>\n",
       "    </tr>\n",
       "    <tr>\n",
       "      <th>2</th>\n",
       "      <td>41.3</td>\n",
       "      <td>43.8</td>\n",
       "    </tr>\n",
       "    <tr>\n",
       "      <th>3</th>\n",
       "      <td>41.8</td>\n",
       "      <td>43.3</td>\n",
       "    </tr>\n",
       "    <tr>\n",
       "      <th>4</th>\n",
       "      <td>42.4</td>\n",
       "      <td>42.5</td>\n",
       "    </tr>\n",
       "    <tr>\n",
       "      <th>5</th>\n",
       "      <td>42.8</td>\n",
       "      <td>43.5</td>\n",
       "    </tr>\n",
       "    <tr>\n",
       "      <th>6</th>\n",
       "      <td>43.2</td>\n",
       "      <td>43.1</td>\n",
       "    </tr>\n",
       "    <tr>\n",
       "      <th>7</th>\n",
       "      <td>42.3</td>\n",
       "      <td>41.7</td>\n",
       "    </tr>\n",
       "    <tr>\n",
       "      <th>8</th>\n",
       "      <td>41.8</td>\n",
       "      <td>44.0</td>\n",
       "    </tr>\n",
       "    <tr>\n",
       "      <th>9</th>\n",
       "      <td>42.7</td>\n",
       "      <td>44.1</td>\n",
       "    </tr>\n",
       "  </tbody>\n",
       "</table>\n",
       "</div>"
      ],
      "text/plain": [
       "   New machine      Old machine\n",
       "0         42.1             42.7\n",
       "1         41.0             43.6\n",
       "2         41.3             43.8\n",
       "3         41.8             43.3\n",
       "4         42.4             42.5\n",
       "5         42.8             43.5\n",
       "6         43.2             43.1\n",
       "7         42.3             41.7\n",
       "8         41.8             44.0\n",
       "9         42.7             44.1"
      ]
     },
     "execution_count": 2,
     "metadata": {},
     "output_type": "execute_result"
    }
   ],
   "source": [
    "machine = pd.read_csv('./files_for_lab/machine.txt', encoding='utf-8', sep='\\t')\n",
    "machine"
   ]
  },
  {
   "cell_type": "markdown",
   "id": "907b8bd4-91f4-43ab-a2b8-280b8ef9f8c3",
   "metadata": {},
   "source": [
    "Assume that there is sufficient evidence to conduct the t test, does the data provide sufficient evidence to show if one machine is better than the other?"
   ]
  },
  {
   "cell_type": "code",
   "execution_count": 3,
   "id": "f6d6a27c-572f-4028-8eba-934c2088c3b7",
   "metadata": {},
   "outputs": [
    {
     "name": "stdout",
     "output_type": "stream",
     "text": [
      "Old Machine mean is: 43.23\n",
      "Old Machine standard deviation is: 0.71\n",
      "\n",
      "Our New Machine mean is: 42.14\n",
      "Our New Machine standard deviation is: 0.68\n",
      "The sem is: 0.22\n",
      "\n",
      "Our statistic is: -5.04\n",
      "The p_value corresponding to our statistic is: 0.00\n",
      "The significance level is set to 0.05\n",
      "We accept the H0?\n"
     ]
    }
   ],
   "source": [
    "old_machine = machine['    Old machine']\n",
    "new_machine = machine['New machine']\n",
    "new_mean = new_machine.mean()\n",
    "new_std = new_machine.std(ddof=1)\n",
    "old_mean = np.mean(old_machine)\n",
    "old_std = np.std(old_machine)\n",
    "sem = new_std / np.sqrt(len(new_machine))\n",
    "t_stat = (new_mean - old_mean) / sem\n",
    "df = len(new_machine) - 1\n",
    "alpha = 0.05\n",
    "print(\"Old Machine mean is: {:.2f}\".format(old_mean))\n",
    "print(\"Old Machine standard deviation is: {:.2f}\".format(old_std))\n",
    "print()\n",
    "print(\"Our New Machine mean is: {:.2f}\".format(new_mean))\n",
    "print(\"Our New Machine standard deviation is: {:.2f}\".format(new_std))\n",
    "print(\"The sem is: {:.2f}\".format(sem))\n",
    "print()\n",
    "t = (new_mean - old_mean) / sem\n",
    "print(\"Our statistic is: {:.2f}\".format(t))\n",
    "print(\"The p_value corresponding to our statistic is: {:.2f}\".format(st.t.cdf(t,df = len(new_machine)-1)))\n",
    "print(\"The significance level is set to 0.05\")\n",
    "print(\"We accept the H0?\")"
   ]
  },
  {
   "cell_type": "code",
   "execution_count": 4,
   "id": "ed89a858-e1a0-429a-a899-ca8941ad2a44",
   "metadata": {},
   "outputs": [],
   "source": [
    "# The data doesn't provide sufficient evidence to show if one machine is better(quicker) than the other. "
   ]
  },
  {
   "cell_type": "markdown",
   "id": "1eedb069-aac0-4513-bfa8-996569ccfce7",
   "metadata": {},
   "source": [
    "#### 2. *Matched Pairs Test* "
   ]
  },
  {
   "cell_type": "markdown",
   "id": "e081a798-7e08-4dee-9c57-c072c46ea647",
   "metadata": {},
   "source": [
    "- In this challenge we will compare dependent samples of data describing our Pokemon (file `files_for_lab/pokemon.csv`). Our goal is to see whether there is a significant difference between each Pokemon's defense and attack scores. Our hypothesis is that the defense and attack scores are equal. Compare the two columns to see if there is a statistically significant difference between them and comment your result."
   ]
  },
  {
   "cell_type": "code",
   "execution_count": 5,
   "id": "0d8ac1f1-b6ce-4269-a670-abff473c2c52",
   "metadata": {},
   "outputs": [],
   "source": [
    "pokemon = pd.read_csv('./files_for_lab/pokemon.csv')"
   ]
  },
  {
   "cell_type": "code",
   "execution_count": 6,
   "id": "c65188d1-bfb7-4556-b9a4-f6fe290835f7",
   "metadata": {},
   "outputs": [
    {
     "data": {
      "text/html": [
       "<div>\n",
       "<style scoped>\n",
       "    .dataframe tbody tr th:only-of-type {\n",
       "        vertical-align: middle;\n",
       "    }\n",
       "\n",
       "    .dataframe tbody tr th {\n",
       "        vertical-align: top;\n",
       "    }\n",
       "\n",
       "    .dataframe thead th {\n",
       "        text-align: right;\n",
       "    }\n",
       "</style>\n",
       "<table border=\"1\" class=\"dataframe\">\n",
       "  <thead>\n",
       "    <tr style=\"text-align: right;\">\n",
       "      <th></th>\n",
       "      <th>#</th>\n",
       "      <th>Name</th>\n",
       "      <th>Type 1</th>\n",
       "      <th>Type 2</th>\n",
       "      <th>Total</th>\n",
       "      <th>HP</th>\n",
       "      <th>Attack</th>\n",
       "      <th>Defense</th>\n",
       "      <th>Sp. Atk</th>\n",
       "      <th>Sp. Def</th>\n",
       "      <th>Speed</th>\n",
       "      <th>Generation</th>\n",
       "      <th>Legendary</th>\n",
       "    </tr>\n",
       "  </thead>\n",
       "  <tbody>\n",
       "    <tr>\n",
       "      <th>0</th>\n",
       "      <td>1</td>\n",
       "      <td>Bulbasaur</td>\n",
       "      <td>Grass</td>\n",
       "      <td>Poison</td>\n",
       "      <td>318</td>\n",
       "      <td>45</td>\n",
       "      <td>49</td>\n",
       "      <td>49</td>\n",
       "      <td>65</td>\n",
       "      <td>65</td>\n",
       "      <td>45</td>\n",
       "      <td>1</td>\n",
       "      <td>False</td>\n",
       "    </tr>\n",
       "    <tr>\n",
       "      <th>1</th>\n",
       "      <td>2</td>\n",
       "      <td>Ivysaur</td>\n",
       "      <td>Grass</td>\n",
       "      <td>Poison</td>\n",
       "      <td>405</td>\n",
       "      <td>60</td>\n",
       "      <td>62</td>\n",
       "      <td>63</td>\n",
       "      <td>80</td>\n",
       "      <td>80</td>\n",
       "      <td>60</td>\n",
       "      <td>1</td>\n",
       "      <td>False</td>\n",
       "    </tr>\n",
       "    <tr>\n",
       "      <th>2</th>\n",
       "      <td>3</td>\n",
       "      <td>Venusaur</td>\n",
       "      <td>Grass</td>\n",
       "      <td>Poison</td>\n",
       "      <td>525</td>\n",
       "      <td>80</td>\n",
       "      <td>82</td>\n",
       "      <td>83</td>\n",
       "      <td>100</td>\n",
       "      <td>100</td>\n",
       "      <td>80</td>\n",
       "      <td>1</td>\n",
       "      <td>False</td>\n",
       "    </tr>\n",
       "    <tr>\n",
       "      <th>3</th>\n",
       "      <td>3</td>\n",
       "      <td>VenusaurMega Venusaur</td>\n",
       "      <td>Grass</td>\n",
       "      <td>Poison</td>\n",
       "      <td>625</td>\n",
       "      <td>80</td>\n",
       "      <td>100</td>\n",
       "      <td>123</td>\n",
       "      <td>122</td>\n",
       "      <td>120</td>\n",
       "      <td>80</td>\n",
       "      <td>1</td>\n",
       "      <td>False</td>\n",
       "    </tr>\n",
       "    <tr>\n",
       "      <th>4</th>\n",
       "      <td>4</td>\n",
       "      <td>Charmander</td>\n",
       "      <td>Fire</td>\n",
       "      <td>NaN</td>\n",
       "      <td>309</td>\n",
       "      <td>39</td>\n",
       "      <td>52</td>\n",
       "      <td>43</td>\n",
       "      <td>60</td>\n",
       "      <td>50</td>\n",
       "      <td>65</td>\n",
       "      <td>1</td>\n",
       "      <td>False</td>\n",
       "    </tr>\n",
       "  </tbody>\n",
       "</table>\n",
       "</div>"
      ],
      "text/plain": [
       "   #                   Name Type 1  Type 2  Total  HP  Attack  Defense  \\\n",
       "0  1              Bulbasaur  Grass  Poison    318  45      49       49   \n",
       "1  2                Ivysaur  Grass  Poison    405  60      62       63   \n",
       "2  3               Venusaur  Grass  Poison    525  80      82       83   \n",
       "3  3  VenusaurMega Venusaur  Grass  Poison    625  80     100      123   \n",
       "4  4             Charmander   Fire     NaN    309  39      52       43   \n",
       "\n",
       "   Sp. Atk  Sp. Def  Speed  Generation  Legendary  \n",
       "0       65       65     45           1      False  \n",
       "1       80       80     60           1      False  \n",
       "2      100      100     80           1      False  \n",
       "3      122      120     80           1      False  \n",
       "4       60       50     65           1      False  "
      ]
     },
     "execution_count": 6,
     "metadata": {},
     "output_type": "execute_result"
    }
   ],
   "source": [
    "pokemon.head()"
   ]
  },
  {
   "cell_type": "code",
   "execution_count": 7,
   "id": "7f6bd442-42e9-4097-8b95-2f3f9063c218",
   "metadata": {},
   "outputs": [
    {
     "name": "stdout",
     "output_type": "stream",
     "text": [
      "<class 'pandas.core.frame.DataFrame'>\n",
      "RangeIndex: 800 entries, 0 to 799\n",
      "Data columns (total 13 columns):\n",
      " #   Column      Non-Null Count  Dtype \n",
      "---  ------      --------------  ----- \n",
      " 0   #           800 non-null    int64 \n",
      " 1   Name        800 non-null    object\n",
      " 2   Type 1      800 non-null    object\n",
      " 3   Type 2      414 non-null    object\n",
      " 4   Total       800 non-null    int64 \n",
      " 5   HP          800 non-null    int64 \n",
      " 6   Attack      800 non-null    int64 \n",
      " 7   Defense     800 non-null    int64 \n",
      " 8   Sp. Atk     800 non-null    int64 \n",
      " 9   Sp. Def     800 non-null    int64 \n",
      " 10  Speed       800 non-null    int64 \n",
      " 11  Generation  800 non-null    int64 \n",
      " 12  Legendary   800 non-null    bool  \n",
      "dtypes: bool(1), int64(9), object(3)\n",
      "memory usage: 75.9+ KB\n"
     ]
    }
   ],
   "source": [
    "pokemon.info()"
   ]
  },
  {
   "cell_type": "code",
   "execution_count": 8,
   "id": "65cd3690-5acf-4e54-9276-951087f87bd8",
   "metadata": {},
   "outputs": [],
   "source": [
    "sample = pokemon.sample(30, random_state=1)\n",
    "sample['difference'] = sample['Attack']-sample['Defense']\n",
    "sample = sample.drop(columns = ['Name', 'Type 1', 'Type 2', 'Total', 'HP', 'Sp. Atk', 'Sp. Def', 'Speed', 'Generation', 'Legendary'], axis=1).reset_index(drop=True)"
   ]
  },
  {
   "cell_type": "code",
   "execution_count": 9,
   "id": "cd6957e2-9aaf-4ca0-a903-91c941325c17",
   "metadata": {},
   "outputs": [
    {
     "name": "stdout",
     "output_type": "stream",
     "text": [
      "<class 'pandas.core.frame.DataFrame'>\n",
      "RangeIndex: 30 entries, 0 to 29\n",
      "Data columns (total 4 columns):\n",
      " #   Column      Non-Null Count  Dtype\n",
      "---  ------      --------------  -----\n",
      " 0   #           30 non-null     int64\n",
      " 1   Attack      30 non-null     int64\n",
      " 2   Defense     30 non-null     int64\n",
      " 3   difference  30 non-null     int64\n",
      "dtypes: int64(4)\n",
      "memory usage: 1.1 KB\n"
     ]
    }
   ],
   "source": [
    "sample.info()"
   ]
  },
  {
   "cell_type": "code",
   "execution_count": 10,
   "id": "5ada95e6-6594-4128-a164-fb7c498645ff",
   "metadata": {},
   "outputs": [
    {
     "data": {
      "text/plain": [
       "(2.8, 36.32079294288603)"
      ]
     },
     "execution_count": 10,
     "metadata": {},
     "output_type": "execute_result"
    }
   ],
   "source": [
    "sample_diff_mean, sample_diff_std = sample['difference'].mean(), sample['difference'].std(ddof=1)\n",
    "sample_diff_mean, sample_diff_std"
   ]
  },
  {
   "cell_type": "code",
   "execution_count": 11,
   "id": "b60ea3dd-c1cc-4421-abbf-260a7fd2663a",
   "metadata": {},
   "outputs": [
    {
     "name": "stdout",
     "output_type": "stream",
     "text": [
      "The mean of our samples differences is: 2.80\n",
      "The standard deviation of our samples differences is: 36.32\n",
      "Our t statistics is: 0.42\n"
     ]
    }
   ],
   "source": [
    "t = sample_diff_mean / ( sample_diff_std / np.sqrt(sample.shape[0]) )\n",
    "print(\"The mean of our samples differences is: {:.2f}\".format(sample_diff_mean))\n",
    "print(\"The standard deviation of our samples differences is: {:.2f}\".format(sample_diff_std))\n",
    "print(\"Our t statistics is: {:.2f}\".format(t))"
   ]
  },
  {
   "cell_type": "code",
   "execution_count": 12,
   "id": "3e6e3cdb-66b4-40a6-a31f-dabbe048029b",
   "metadata": {},
   "outputs": [
    {
     "data": {
      "text/plain": [
       "2.045229642132703"
      ]
     },
     "execution_count": 12,
     "metadata": {},
     "output_type": "execute_result"
    }
   ],
   "source": [
    "tc = st.t.ppf(1-(0.05/2),df= sample.shape[0] - 1)\n",
    "tc"
   ]
  },
  {
   "cell_type": "code",
   "execution_count": 13,
   "id": "519b7593-93a5-4a26-a7ab-00de27708c59",
   "metadata": {},
   "outputs": [
    {
     "data": {
      "text/plain": [
       "Ttest_relResult(statistic=0.4222438544846934, pvalue=0.6759611742317202)"
      ]
     },
     "execution_count": 13,
     "metadata": {},
     "output_type": "execute_result"
    }
   ],
   "source": [
    "st.ttest_rel(sample['Attack'],sample['Defense'])"
   ]
  },
  {
   "cell_type": "raw",
   "id": "17987d2e-db5a-4647-ac88-56e78051041a",
   "metadata": {},
   "source": [
    "As our t statistics is 0.42, and the critical value is 2.045, we accept the Hypothesis. "
   ]
  },
  {
   "cell_type": "markdown",
   "id": "c782aeef-8850-4aac-ab32-1f39c1696a2d",
   "metadata": {},
   "source": [
    "# Inferential statistics - ANOVA\n",
    "\n",
    "Note: The following lab is divided in 2 sections which represent activities 3 and 4. \n"
   ]
  },
  {
   "cell_type": "markdown",
   "id": "a2b92498-8b50-40be-829d-21d56024d54e",
   "metadata": {},
   "source": [
    "## Part 1\n",
    "\n",
    "In this activity, we will look at another example. Your task is to understand the problem and write down all the steps to set up ANOVA. After the next lesson, we will ask you to solve this problem using Python. Here are the steps that you would need to work on:\n",
    "    - Null hypothesis\n",
    "    - Alternate hypothesis\n",
    "    - Level of significance\n",
    "    - Test statistic\n",
    "    - P-value\n",
    "    - F table"
   ]
  },
  {
   "cell_type": "markdown",
   "id": "f6ab397a-837f-4330-8112-acbd403ec82f",
   "metadata": {},
   "source": [
    "### Context"
   ]
  },
  {
   "cell_type": "markdown",
   "id": "ef3a4f47-a158-4752-8e03-bd1dd179b37d",
   "metadata": {},
   "source": [
    "Suppose you are working as an analyst in a microprocessor chip manufacturing plant. You have been given the task of analyzing a plasma etching process with respect to changing Power (in Watts) of the plasma beam. Data was collected and provided to you to conduct statistical analysis and check if changing the power of the plasma beam has any effect on the etching rate by the machine. You will conduct ANOVA and check if there is any difference in the mean etching rate for different levels of power. You can find the data `anova_lab_data.xlsx` file in the `files_for_lab` folder  \n",
    "\n",
    "Data was collected randomly and provided to you in the table as shown: [link to the image - Data](https://education-team-2020.s3-eu-west-1.amazonaws.com/data-analytics/7.05/7.05-lab_data.png)"
   ]
  },
  {
   "cell_type": "code",
   "execution_count": 14,
   "id": "c1ecc936-15e5-4da0-9713-4f024e3bb6cf",
   "metadata": {},
   "outputs": [],
   "source": [
    "anova = pd.read_excel('./files_for_lab/anova_lab_data.xlsx')"
   ]
  },
  {
   "cell_type": "code",
   "execution_count": 15,
   "id": "ed400a71-eb4f-401e-a82e-a047efee0631",
   "metadata": {},
   "outputs": [
    {
     "data": {
      "text/html": [
       "<div>\n",
       "<style scoped>\n",
       "    .dataframe tbody tr th:only-of-type {\n",
       "        vertical-align: middle;\n",
       "    }\n",
       "\n",
       "    .dataframe tbody tr th {\n",
       "        vertical-align: top;\n",
       "    }\n",
       "\n",
       "    .dataframe thead th {\n",
       "        text-align: right;\n",
       "    }\n",
       "</style>\n",
       "<table border=\"1\" class=\"dataframe\">\n",
       "  <thead>\n",
       "    <tr style=\"text-align: right;\">\n",
       "      <th></th>\n",
       "      <th>Power</th>\n",
       "      <th>Etching Rate</th>\n",
       "    </tr>\n",
       "  </thead>\n",
       "  <tbody>\n",
       "    <tr>\n",
       "      <th>0</th>\n",
       "      <td>160 W</td>\n",
       "      <td>5.43</td>\n",
       "    </tr>\n",
       "    <tr>\n",
       "      <th>1</th>\n",
       "      <td>180 W</td>\n",
       "      <td>6.24</td>\n",
       "    </tr>\n",
       "    <tr>\n",
       "      <th>2</th>\n",
       "      <td>200 W</td>\n",
       "      <td>8.79</td>\n",
       "    </tr>\n",
       "    <tr>\n",
       "      <th>3</th>\n",
       "      <td>160 W</td>\n",
       "      <td>5.71</td>\n",
       "    </tr>\n",
       "    <tr>\n",
       "      <th>4</th>\n",
       "      <td>180 W</td>\n",
       "      <td>6.71</td>\n",
       "    </tr>\n",
       "    <tr>\n",
       "      <th>5</th>\n",
       "      <td>200 W</td>\n",
       "      <td>9.20</td>\n",
       "    </tr>\n",
       "    <tr>\n",
       "      <th>6</th>\n",
       "      <td>160 W</td>\n",
       "      <td>6.22</td>\n",
       "    </tr>\n",
       "    <tr>\n",
       "      <th>7</th>\n",
       "      <td>180 W</td>\n",
       "      <td>5.98</td>\n",
       "    </tr>\n",
       "    <tr>\n",
       "      <th>8</th>\n",
       "      <td>200 W</td>\n",
       "      <td>7.90</td>\n",
       "    </tr>\n",
       "    <tr>\n",
       "      <th>9</th>\n",
       "      <td>160 W</td>\n",
       "      <td>6.01</td>\n",
       "    </tr>\n",
       "    <tr>\n",
       "      <th>10</th>\n",
       "      <td>180 W</td>\n",
       "      <td>5.66</td>\n",
       "    </tr>\n",
       "    <tr>\n",
       "      <th>11</th>\n",
       "      <td>200 W</td>\n",
       "      <td>8.15</td>\n",
       "    </tr>\n",
       "    <tr>\n",
       "      <th>12</th>\n",
       "      <td>160 W</td>\n",
       "      <td>5.59</td>\n",
       "    </tr>\n",
       "    <tr>\n",
       "      <th>13</th>\n",
       "      <td>180 W</td>\n",
       "      <td>6.60</td>\n",
       "    </tr>\n",
       "    <tr>\n",
       "      <th>14</th>\n",
       "      <td>200 W</td>\n",
       "      <td>7.55</td>\n",
       "    </tr>\n",
       "  </tbody>\n",
       "</table>\n",
       "</div>"
      ],
      "text/plain": [
       "   Power   Etching Rate\n",
       "0   160 W          5.43\n",
       "1   180 W          6.24\n",
       "2   200 W          8.79\n",
       "3   160 W          5.71\n",
       "4   180 W          6.71\n",
       "5   200 W          9.20\n",
       "6   160 W          6.22\n",
       "7   180 W          5.98\n",
       "8   200 W          7.90\n",
       "9   160 W          6.01\n",
       "10  180 W          5.66\n",
       "11  200 W          8.15\n",
       "12  160 W          5.59\n",
       "13  180 W          6.60\n",
       "14  200 W          7.55"
      ]
     },
     "execution_count": 15,
     "metadata": {},
     "output_type": "execute_result"
    }
   ],
   "source": [
    "anova"
   ]
  },
  {
   "cell_type": "markdown",
   "id": "c1538295-37df-48fa-b49c-729448d1f886",
   "metadata": {},
   "source": [
    "### - State the null hypothesis"
   ]
  },
  {
   "cell_type": "raw",
   "id": "0d2ce2ab-de1e-4fcc-ad30-d9be66c7d5f1",
   "metadata": {},
   "source": [
    "The mean Etching Rate is the same for all Powers. "
   ]
  },
  {
   "cell_type": "markdown",
   "id": "0b39b926-3b54-4000-bbb3-17be206cd4e8",
   "metadata": {},
   "source": [
    "### - State the alternate hypothesis"
   ]
  },
  {
   "cell_type": "raw",
   "id": "10e94ae0-7759-4b26-b5e8-621fc512108b",
   "metadata": {},
   "source": [
    "There will be at least one difference in the mean Etching Rate for a Power. "
   ]
  },
  {
   "cell_type": "markdown",
   "id": "82433bc4-d25b-4f79-b07e-95bad95522c4",
   "metadata": {},
   "source": [
    "### - What is the significance level"
   ]
  },
  {
   "cell_type": "raw",
   "id": "5506ff54-f938-4b09-8f08-7549aab04598",
   "metadata": {},
   "source": [
    "The significance level is usually 0.05, meaning that it is the threshold to reject the null hypothesis. "
   ]
  },
  {
   "cell_type": "markdown",
   "id": "98c59be0-46f1-4e8d-9879-8be89ca2036b",
   "metadata": {},
   "source": [
    "### - What are the degrees of freedom of model, error terms, and total DoF"
   ]
  },
  {
   "cell_type": "raw",
   "id": "06b97a27-bf5b-4444-997a-7c5bdd46a4d1",
   "metadata": {},
   "source": [
    "The Degrees of Freedom are the number of independent variables minus 1. Therefore three kinds of Power (160, 180, 200), minus 1. The degree will be 2. \n",
    "The Error Terms are the dependent variables minus the independent variables. Therefore will be 15 Etching Rates minus 3 Powers. The error terms will be 12. \n",
    "The Total Degrees of Freedom are the total number of variables minus 1. So 15 rows minus 1. It will be 14.  "
   ]
  },
  {
   "cell_type": "markdown",
   "id": "ca6d5514-9c3b-49ae-bfd3-dce869d2e7bb",
   "metadata": {},
   "source": [
    "## Part 2"
   ]
  },
  {
   "cell_type": "markdown",
   "id": "c4a9e2a1-c865-4847-91af-460bee16b088",
   "metadata": {},
   "source": [
    "- In this section, use the Python to conduct ANOVA.\n",
    "- What conclusions can you draw from the experiment and why?"
   ]
  },
  {
   "cell_type": "code",
   "execution_count": 16,
   "id": "dca7860f-a127-49d7-a494-79c903915b30",
   "metadata": {},
   "outputs": [
    {
     "name": "stdout",
     "output_type": "stream",
     "text": [
      "The value of S2t is 9.09\n"
     ]
    }
   ],
   "source": [
    "S2t = 0\n",
    "for power in anova['Power '].unique():\n",
    "    ng = len(anova[anova['Power '] == power])\n",
    "    S2t  += ng * ( ( anova[anova['Power '] == power]['Etching Rate'].mean() - anova['Etching Rate'].mean() ) ** 2)\n",
    "S2t /= ( anova['Power '].nunique() - 1 ) \n",
    "\n",
    "print(\"The value of S2t is {:.2f}\".format(S2t))"
   ]
  },
  {
   "cell_type": "code",
   "execution_count": 17,
   "id": "d294c133-bd7b-4e25-83a0-a88a99b3ab67",
   "metadata": {},
   "outputs": [
    {
     "name": "stdout",
     "output_type": "stream",
     "text": [
      "\n",
      "The value of S2E is 0.25\n"
     ]
    }
   ],
   "source": [
    "S2E = 0\n",
    "for power in anova['Power '].unique():\n",
    "    for rate in anova[anova['Power '] == power]['Etching Rate']:\n",
    "        S2E += ( rate - anova[anova['Power '] == power]['Etching Rate'].mean() ) ** 2\n",
    "S2E /= ( len(anova) - anova['Power '].nunique() )\n",
    "\n",
    "print()\n",
    "print(\"The value of S2E is {:.2f}\".format(S2E))"
   ]
  },
  {
   "cell_type": "code",
   "execution_count": 18,
   "id": "35b7d356-a5aa-47c9-ba65-21217dd8367d",
   "metadata": {},
   "outputs": [
    {
     "name": "stdout",
     "output_type": "stream",
     "text": [
      "\n",
      "The value of S2E is 0.25\n"
     ]
    }
   ],
   "source": [
    "S2E2 = 0\n",
    "for power in anova['Power '].unique():\n",
    "    ng = len(anova[anova['Power '] == power])\n",
    "    S2E2 += ( ng - 1 ) * np.var(anova[anova['Power '] == power]['Etching Rate'],ddof=1)\n",
    "S2E2 /= ( len(anova) - anova['Power '].nunique() )\n",
    "\n",
    "print()\n",
    "print(\"The value of S2E is {:.2f}\".format(S2E2))"
   ]
  },
  {
   "cell_type": "code",
   "execution_count": 19,
   "id": "62e5c82b-cf80-4f0c-88bb-ff53046fd92c",
   "metadata": {},
   "outputs": [
    {
     "name": "stdout",
     "output_type": "stream",
     "text": [
      "The value of F is 36.88\n"
     ]
    }
   ],
   "source": [
    "F = S2t / S2E\n",
    "print(\"The value of F is {:.2f}\".format(F))"
   ]
  },
  {
   "cell_type": "code",
   "execution_count": 20,
   "id": "b8fa334e-4cb2-43ed-b9e0-42e44b8664ee",
   "metadata": {},
   "outputs": [
    {
     "data": {
      "text/plain": [
       "3"
      ]
     },
     "execution_count": 20,
     "metadata": {},
     "output_type": "execute_result"
    }
   ],
   "source": [
    "anova['Power '].nunique()"
   ]
  },
  {
   "cell_type": "code",
   "execution_count": 21,
   "id": "606c6e6a-c39b-4668-b9ba-42fdf060d0a8",
   "metadata": {},
   "outputs": [
    {
     "name": "stdout",
     "output_type": "stream",
     "text": [
      "Number of degrees of freedom d1:  2\n",
      "Number of degrees of freedom d2:  12\n"
     ]
    }
   ],
   "source": [
    "d1 = anova['Power '].nunique() - 1\n",
    "d2 = len(anova) - anova['Power '].nunique()\n",
    "\n",
    "print(\"Number of degrees of freedom d1: \",d1)\n",
    "print(\"Number of degrees of freedom d2: \",d2)"
   ]
  },
  {
   "cell_type": "code",
   "execution_count": 22,
   "id": "e9027025-6707-4836-9823-c00e6b259a9c",
   "metadata": {},
   "outputs": [
    {
     "data": {
      "text/plain": [
       "0.9999924934157276"
      ]
     },
     "execution_count": 22,
     "metadata": {},
     "output_type": "execute_result"
    }
   ],
   "source": [
    "st.f.cdf(F,dfn=d1, dfd=d2)"
   ]
  },
  {
   "cell_type": "code",
   "execution_count": 23,
   "id": "09d0fc16-fee3-44bd-b859-03f6dc40e85a",
   "metadata": {},
   "outputs": [
    {
     "data": {
      "text/plain": [
       "7.5065842723986975e-06"
      ]
     },
     "execution_count": 23,
     "metadata": {},
     "output_type": "execute_result"
    }
   ],
   "source": [
    "1 - st.f.cdf(F,dfn=d1, dfd=d2)"
   ]
  },
  {
   "cell_type": "code",
   "execution_count": 24,
   "id": "92c46add-bb8b-4ede-a3b2-1f564301b6ed",
   "metadata": {},
   "outputs": [
    {
     "name": "stdout",
     "output_type": "stream",
     "text": [
      "The critical value which corresponds to an area of 0.05 is: 3.89\n"
     ]
    }
   ],
   "source": [
    "Fc = st.f.ppf(1-0.05,dfn=d1, dfd=d2)\n",
    "\n",
    "print(\"The critical value which corresponds to an area of 0.05 is: {:.2f}\".format(Fc))"
   ]
  },
  {
   "cell_type": "raw",
   "id": "aa2480db-5247-4504-9fe3-496fb7c68fce",
   "metadata": {},
   "source": [
    "We reject the Hypothesis as the critical value is higher than the significance level. "
   ]
  }
 ],
 "metadata": {
  "kernelspec": {
   "display_name": "Python 3 (ipykernel)",
   "language": "python",
   "name": "python3"
  },
  "language_info": {
   "codemirror_mode": {
    "name": "ipython",
    "version": 3
   },
   "file_extension": ".py",
   "mimetype": "text/x-python",
   "name": "python",
   "nbconvert_exporter": "python",
   "pygments_lexer": "ipython3",
   "version": "3.10.9"
  },
  "toc-autonumbering": true
 },
 "nbformat": 4,
 "nbformat_minor": 5
}
